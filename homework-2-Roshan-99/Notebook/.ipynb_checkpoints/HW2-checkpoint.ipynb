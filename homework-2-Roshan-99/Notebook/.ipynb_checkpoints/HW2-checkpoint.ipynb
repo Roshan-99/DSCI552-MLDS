{
 "cells": [
  {
   "cell_type": "code",
   "execution_count": 1,
   "id": "2ea56f12",
   "metadata": {},
   "outputs": [],
   "source": [
    "import pandas as pd"
   ]
  },
  {
   "cell_type": "code",
   "execution_count": null,
   "id": "6423d75b",
   "metadata": {},
   "outputs": [],
   "source": [
    "df=pd.read_csv('../HW2/Data/Folds5x2_pp.csv')"
   ]
  },
  {
   "cell_type": "code",
   "execution_count": null,
   "id": "3646edeb",
   "metadata": {},
   "outputs": [],
   "source": []
  }
 ],
 "metadata": {
  "kernelspec": {
   "display_name": "Python 3 (ipykernel)",
   "language": "python",
   "name": "python3"
  },
  "language_info": {
   "codemirror_mode": {
    "name": "ipython",
    "version": 3
   },
   "file_extension": ".py",
   "mimetype": "text/x-python",
   "name": "python",
   "nbconvert_exporter": "python",
   "pygments_lexer": "ipython3",
   "version": "3.9.7"
  }
 },
 "nbformat": 4,
 "nbformat_minor": 5
}
