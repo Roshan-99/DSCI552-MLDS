{
 "cells": [
  {
   "cell_type": "markdown",
   "metadata": {
    "id": "9EDKy3pEL035"
   },
   "source": [
    "Name: Surya Roshan Mugada\n",
    "\n",
    "USC ID: 6545904818\n",
    "\n",
    "Github ID: roshan-99"
   ]
  },
  {
   "cell_type": "code",
   "execution_count": 54,
   "metadata": {
    "id": "EnoHKUjJHMJI"
   },
   "outputs": [],
   "source": [
    "from tensorflow import keras\n",
    "from os import listdir\n",
    "import pandas as pd\n",
    "from sklearn.model_selection import train_test_split\n",
    "import tensorflow as tf\n",
    "from tensorflow.keras.applications import EfficientNetB0\n",
    "from tensorflow.keras.models import Sequential\n",
    "from tensorflow.keras import layers\n",
    "import matplotlib.pyplot as plt\n",
    "from keras.preprocessing.image import ImageDataGenerator\n",
    "from keras.applications.vgg16 import VGG16, preprocess_input\n",
    "from keras.layers import Dense, Dropout, Flatten\n",
    "from keras.models import Model\n",
    "from keras.optimizers import Adam\n",
    "from keras.callbacks import ModelCheckpoint\n",
    "from keras.callbacks import EarlyStopping\n",
    "from keras.layers import BatchNormalization\n",
    "import numpy as np\n",
    "from sklearn.metrics import classification_report"
   ]
  },
  {
   "cell_type": "markdown",
   "metadata": {
    "id": "mZ8VVfsEHsLi"
   },
   "source": [
    "Reading the images. I have implemented this in Google Colab hence I am not following the directory structure. Please consider."
   ]
  },
  {
   "cell_type": "code",
   "execution_count": 55,
   "metadata": {
    "id": "Chq6d-XsHoxA"
   },
   "outputs": [],
   "source": [
    "root_folder='Data/'\n",
    "folder_csv=pd.read_excel(root_folder+'Classes.xlsx')\n",
    "\n"
   ]
  },
  {
   "cell_type": "code",
   "execution_count": 56,
   "metadata": {
    "id": "niXdOSJqHvaJ"
   },
   "outputs": [],
   "source": [
    "data_columns=['Filepath','TrainValTest','class']\n",
    "\n",
    "data=[]\n",
    "for index,row in folder_csv.iterrows():\n",
    "    #print(row)\n",
    "    #print(row)\n",
    "    folder,Class=row['Folder Name '],row['Class']\n",
    "    images_path=root_folder+'images/'+folder\n",
    "    #print(listdir(images_path))\n",
    "    train,temp_test=train_test_split(listdir(images_path), test_size=0.3)\n",
    "    val,test=train_test_split(temp_test,test_size=0.5)\n",
    "    for row in train:\n",
    "        data.append([images_path+'/'+row,'train',Class])\n",
    "    for row in val:\n",
    "        data.append([images_path+'/'+row,'val',Class])\n",
    "    for row in test:\n",
    "        data.append([images_path+'/'+row,'test',Class])\n",
    "    "
   ]
  },
  {
   "cell_type": "code",
   "execution_count": 57,
   "metadata": {
    "id": "136WzWhsIJrP"
   },
   "outputs": [],
   "source": [
    "data_df=pd.DataFrame(data,columns=data_columns)"
   ]
  },
  {
   "cell_type": "code",
   "execution_count": 58,
   "metadata": {
    "colab": {
     "base_uri": "https://localhost:8080/",
     "height": 424
    },
    "id": "Ox1KQ09CKFMC",
    "outputId": "03dafaee-3c1d-4b8e-bd85-1c6b6770f305"
   },
   "outputs": [
    {
     "data": {
      "text/html": [
       "\n",
       "  <div id=\"df-c0cf06cc-b1b3-4040-8816-401b6a63b507\">\n",
       "    <div class=\"colab-df-container\">\n",
       "      <div>\n",
       "<style scoped>\n",
       "    .dataframe tbody tr th:only-of-type {\n",
       "        vertical-align: middle;\n",
       "    }\n",
       "\n",
       "    .dataframe tbody tr th {\n",
       "        vertical-align: top;\n",
       "    }\n",
       "\n",
       "    .dataframe thead th {\n",
       "        text-align: right;\n",
       "    }\n",
       "</style>\n",
       "<table border=\"1\" class=\"dataframe\">\n",
       "  <thead>\n",
       "    <tr style=\"text-align: right;\">\n",
       "      <th></th>\n",
       "      <th>Filepath</th>\n",
       "      <th>TrainValTest</th>\n",
       "      <th>class</th>\n",
       "    </tr>\n",
       "  </thead>\n",
       "  <tbody>\n",
       "    <tr>\n",
       "      <th>0</th>\n",
       "      <td>Data/images/005.Crested_Auklet/Crested_Auklet_...</td>\n",
       "      <td>train</td>\n",
       "      <td>0</td>\n",
       "    </tr>\n",
       "    <tr>\n",
       "      <th>1</th>\n",
       "      <td>Data/images/005.Crested_Auklet/Crested_Auklet_...</td>\n",
       "      <td>train</td>\n",
       "      <td>0</td>\n",
       "    </tr>\n",
       "    <tr>\n",
       "      <th>2</th>\n",
       "      <td>Data/images/005.Crested_Auklet/Crested_Auklet_...</td>\n",
       "      <td>train</td>\n",
       "      <td>0</td>\n",
       "    </tr>\n",
       "    <tr>\n",
       "      <th>3</th>\n",
       "      <td>Data/images/005.Crested_Auklet/Crested_Auklet_...</td>\n",
       "      <td>train</td>\n",
       "      <td>0</td>\n",
       "    </tr>\n",
       "    <tr>\n",
       "      <th>4</th>\n",
       "      <td>Data/images/005.Crested_Auklet/Crested_Auklet_...</td>\n",
       "      <td>train</td>\n",
       "      <td>0</td>\n",
       "    </tr>\n",
       "    <tr>\n",
       "      <th>...</th>\n",
       "      <td>...</td>\n",
       "      <td>...</td>\n",
       "      <td>...</td>\n",
       "    </tr>\n",
       "    <tr>\n",
       "      <th>1171</th>\n",
       "      <td>Data/images/168.Kentucky_Warbler/Kentucky_Warb...</td>\n",
       "      <td>test</td>\n",
       "      <td>19</td>\n",
       "    </tr>\n",
       "    <tr>\n",
       "      <th>1172</th>\n",
       "      <td>Data/images/168.Kentucky_Warbler/Kentucky_Warb...</td>\n",
       "      <td>test</td>\n",
       "      <td>19</td>\n",
       "    </tr>\n",
       "    <tr>\n",
       "      <th>1173</th>\n",
       "      <td>Data/images/168.Kentucky_Warbler/Kentucky_Warb...</td>\n",
       "      <td>test</td>\n",
       "      <td>19</td>\n",
       "    </tr>\n",
       "    <tr>\n",
       "      <th>1174</th>\n",
       "      <td>Data/images/168.Kentucky_Warbler/Kentucky_Warb...</td>\n",
       "      <td>test</td>\n",
       "      <td>19</td>\n",
       "    </tr>\n",
       "    <tr>\n",
       "      <th>1175</th>\n",
       "      <td>Data/images/168.Kentucky_Warbler/Kentucky_Warb...</td>\n",
       "      <td>test</td>\n",
       "      <td>19</td>\n",
       "    </tr>\n",
       "  </tbody>\n",
       "</table>\n",
       "<p>1176 rows × 3 columns</p>\n",
       "</div>\n",
       "      <button class=\"colab-df-convert\" onclick=\"convertToInteractive('df-c0cf06cc-b1b3-4040-8816-401b6a63b507')\"\n",
       "              title=\"Convert this dataframe to an interactive table.\"\n",
       "              style=\"display:none;\">\n",
       "        \n",
       "  <svg xmlns=\"http://www.w3.org/2000/svg\" height=\"24px\"viewBox=\"0 0 24 24\"\n",
       "       width=\"24px\">\n",
       "    <path d=\"M0 0h24v24H0V0z\" fill=\"none\"/>\n",
       "    <path d=\"M18.56 5.44l.94 2.06.94-2.06 2.06-.94-2.06-.94-.94-2.06-.94 2.06-2.06.94zm-11 1L8.5 8.5l.94-2.06 2.06-.94-2.06-.94L8.5 2.5l-.94 2.06-2.06.94zm10 10l.94 2.06.94-2.06 2.06-.94-2.06-.94-.94-2.06-.94 2.06-2.06.94z\"/><path d=\"M17.41 7.96l-1.37-1.37c-.4-.4-.92-.59-1.43-.59-.52 0-1.04.2-1.43.59L10.3 9.45l-7.72 7.72c-.78.78-.78 2.05 0 2.83L4 21.41c.39.39.9.59 1.41.59.51 0 1.02-.2 1.41-.59l7.78-7.78 2.81-2.81c.8-.78.8-2.07 0-2.86zM5.41 20L4 18.59l7.72-7.72 1.47 1.35L5.41 20z\"/>\n",
       "  </svg>\n",
       "      </button>\n",
       "      \n",
       "  <style>\n",
       "    .colab-df-container {\n",
       "      display:flex;\n",
       "      flex-wrap:wrap;\n",
       "      gap: 12px;\n",
       "    }\n",
       "\n",
       "    .colab-df-convert {\n",
       "      background-color: #E8F0FE;\n",
       "      border: none;\n",
       "      border-radius: 50%;\n",
       "      cursor: pointer;\n",
       "      display: none;\n",
       "      fill: #1967D2;\n",
       "      height: 32px;\n",
       "      padding: 0 0 0 0;\n",
       "      width: 32px;\n",
       "    }\n",
       "\n",
       "    .colab-df-convert:hover {\n",
       "      background-color: #E2EBFA;\n",
       "      box-shadow: 0px 1px 2px rgba(60, 64, 67, 0.3), 0px 1px 3px 1px rgba(60, 64, 67, 0.15);\n",
       "      fill: #174EA6;\n",
       "    }\n",
       "\n",
       "    [theme=dark] .colab-df-convert {\n",
       "      background-color: #3B4455;\n",
       "      fill: #D2E3FC;\n",
       "    }\n",
       "\n",
       "    [theme=dark] .colab-df-convert:hover {\n",
       "      background-color: #434B5C;\n",
       "      box-shadow: 0px 1px 3px 1px rgba(0, 0, 0, 0.15);\n",
       "      filter: drop-shadow(0px 1px 2px rgba(0, 0, 0, 0.3));\n",
       "      fill: #FFFFFF;\n",
       "    }\n",
       "  </style>\n",
       "\n",
       "      <script>\n",
       "        const buttonEl =\n",
       "          document.querySelector('#df-c0cf06cc-b1b3-4040-8816-401b6a63b507 button.colab-df-convert');\n",
       "        buttonEl.style.display =\n",
       "          google.colab.kernel.accessAllowed ? 'block' : 'none';\n",
       "\n",
       "        async function convertToInteractive(key) {\n",
       "          const element = document.querySelector('#df-c0cf06cc-b1b3-4040-8816-401b6a63b507');\n",
       "          const dataTable =\n",
       "            await google.colab.kernel.invokeFunction('convertToInteractive',\n",
       "                                                     [key], {});\n",
       "          if (!dataTable) return;\n",
       "\n",
       "          const docLinkHtml = 'Like what you see? Visit the ' +\n",
       "            '<a target=\"_blank\" href=https://colab.research.google.com/notebooks/data_table.ipynb>data table notebook</a>'\n",
       "            + ' to learn more about interactive tables.';\n",
       "          element.innerHTML = '';\n",
       "          dataTable['output_type'] = 'display_data';\n",
       "          await google.colab.output.renderOutput(dataTable, element);\n",
       "          const docLink = document.createElement('div');\n",
       "          docLink.innerHTML = docLinkHtml;\n",
       "          element.appendChild(docLink);\n",
       "        }\n",
       "      </script>\n",
       "    </div>\n",
       "  </div>\n",
       "  "
      ],
      "text/plain": [
       "                                               Filepath TrainValTest  class\n",
       "0     Data/images/005.Crested_Auklet/Crested_Auklet_...        train      0\n",
       "1     Data/images/005.Crested_Auklet/Crested_Auklet_...        train      0\n",
       "2     Data/images/005.Crested_Auklet/Crested_Auklet_...        train      0\n",
       "3     Data/images/005.Crested_Auklet/Crested_Auklet_...        train      0\n",
       "4     Data/images/005.Crested_Auklet/Crested_Auklet_...        train      0\n",
       "...                                                 ...          ...    ...\n",
       "1171  Data/images/168.Kentucky_Warbler/Kentucky_Warb...         test     19\n",
       "1172  Data/images/168.Kentucky_Warbler/Kentucky_Warb...         test     19\n",
       "1173  Data/images/168.Kentucky_Warbler/Kentucky_Warb...         test     19\n",
       "1174  Data/images/168.Kentucky_Warbler/Kentucky_Warb...         test     19\n",
       "1175  Data/images/168.Kentucky_Warbler/Kentucky_Warb...         test     19\n",
       "\n",
       "[1176 rows x 3 columns]"
      ]
     },
     "execution_count": 58,
     "metadata": {},
     "output_type": "execute_result"
    }
   ],
   "source": [
    "data_df"
   ]
  },
  {
   "cell_type": "markdown",
   "metadata": {
    "id": "YjReUREfKE1f"
   },
   "source": []
  },
  {
   "cell_type": "code",
   "execution_count": 59,
   "metadata": {
    "id": "1wLqCFjEINYU"
   },
   "outputs": [],
   "source": [
    "X,y=data_df[['Filepath','TrainValTest']],pd.get_dummies(data_df['class'])\n",
    "data_df_one_hot=pd.concat([data_df,pd.get_dummies(data_df['class'])],axis=1)"
   ]
  },
  {
   "cell_type": "code",
   "execution_count": 60,
   "metadata": {
    "id": "grQMbtqoKKJx"
   },
   "outputs": [],
   "source": [
    "cols=data_df_one_hot.columns[-1:-21:-1]"
   ]
  },
  {
   "cell_type": "markdown",
   "metadata": {
    "id": "jfunUz5ZKQ_t"
   },
   "source": [
    "One hot encoding of the data"
   ]
  },
  {
   "cell_type": "code",
   "execution_count": 61,
   "metadata": {
    "id": "nbnUSLkXKNzT"
   },
   "outputs": [],
   "source": [
    "train_df=data_df_one_hot.loc[data_df_one_hot['TrainValTest']=='train']\n",
    "val_df=data_df_one_hot.loc[data_df_one_hot['TrainValTest']=='val']\n",
    "test_df=data_df_one_hot.loc[data_df_one_hot['TrainValTest']=='test']"
   ]
  },
  {
   "cell_type": "code",
   "execution_count": 62,
   "metadata": {
    "id": "HCZ0ykTVKUjc"
   },
   "outputs": [],
   "source": [
    "def random_crop(image):\n",
    "  cropped_image = tf.image.random_crop(\n",
    "      image, size=[200, 200, 3])\n",
    "  cropped_image=tf.image.resize(cropped_image,(224,224))\n",
    "  return cropped_image"
   ]
  },
  {
   "cell_type": "markdown",
   "metadata": {
    "id": "WfVWQJCwKc_g"
   },
   "source": [
    "Randomly cropping, zooming, flipping horizontally, rotating, contrasting, translating using ImageDataGenerator on the train data. "
   ]
  },
  {
   "cell_type": "code",
   "execution_count": 63,
   "metadata": {
    "id": "Mkquy_gyKZBL"
   },
   "outputs": [],
   "source": [
    "train_datagen = ImageDataGenerator(\n",
    "        rotation_range=20,\n",
    "        zoom_range=0.05,\n",
    "        width_shift_range=0.05,\n",
    "        height_shift_range=0.05,\n",
    "        shear_range=0.05,\n",
    "        horizontal_flip=True,\n",
    "        fill_mode=\"nearest\",\n",
    "        preprocessing_function=random_crop,\n",
    "        brightness_range=(0.3, 1)\n",
    "        )\n",
    "test_datagen = ImageDataGenerator()"
   ]
  },
  {
   "cell_type": "code",
   "execution_count": 64,
   "metadata": {
    "colab": {
     "base_uri": "https://localhost:8080/"
    },
    "id": "mORHl9jXKgQx",
    "outputId": "fd5139e0-6322-4291-8c04-868772111c1c"
   },
   "outputs": [
    {
     "name": "stdout",
     "output_type": "stream",
     "text": [
      "Found 820 validated image filenames.\n",
      "Found 178 validated image filenames.\n",
      "Found 178 validated image filenames.\n"
     ]
    }
   ],
   "source": [
    "train_generator = train_datagen.flow_from_dataframe(\n",
    "    dataframe=train_df,\n",
    "    directory=None,\n",
    "    x_col=\"Filepath\",\n",
    "    y_col=[x for x in range(0,20)],\n",
    "    target_size=(224, 224),\n",
    "    batch_size=5,\n",
    "    class_mode=\"raw\",\n",
    "    \n",
    "    seed=42\n",
    ")\n",
    "valid_generator = test_datagen.flow_from_dataframe(\n",
    "    dataframe=val_df,\n",
    "    directory=None,\n",
    "    x_col=\"Filepath\",\n",
    "    y_col=[x for x in range(0,20)],\n",
    "    target_size=(224, 224),\n",
    "    batch_size=5,\n",
    "    class_mode=\"raw\",\n",
    "    shuffle=False\n",
    ")\n",
    "test_generator= test_datagen.flow_from_dataframe(\n",
    "    dataframe=test_df,\n",
    "    directory=None,\n",
    "    x_col=\"Filepath\",\n",
    "    y_col=[x for x in range(0,20)],\n",
    "    target_size=(224, 224),\n",
    "     batch_size=1,\n",
    "    class_mode=\"raw\",\n",
    "    shuffle=False\n",
    ")"
   ]
  },
  {
   "cell_type": "code",
   "execution_count": 65,
   "metadata": {
    "id": "U7HgaQdm06D1"
   },
   "outputs": [],
   "source": [
    "def crop_and_vgg(image):\n",
    "  image=preprocess_input(image)\n",
    "  image=random_crop(image)\n",
    "  return image\n"
   ]
  },
  {
   "cell_type": "code",
   "execution_count": 66,
   "metadata": {
    "id": "ApiITbZCzAow"
   },
   "outputs": [],
   "source": [
    "train_datagen_vgg = ImageDataGenerator(\n",
    "        rotation_range=20,\n",
    "        zoom_range=0.05,\n",
    "        width_shift_range=0.05,\n",
    "        height_shift_range=0.05,\n",
    "        shear_range=0.05,\n",
    "        horizontal_flip=True,\n",
    "        fill_mode=\"nearest\",\n",
    "        preprocessing_function=crop_and_vgg,\n",
    "        brightness_range=(0.3, 1)\n",
    "        )\n",
    "test_datagen_vgg = ImageDataGenerator(preprocessing_function=preprocess_input)"
   ]
  },
  {
   "cell_type": "code",
   "execution_count": 67,
   "metadata": {
    "colab": {
     "base_uri": "https://localhost:8080/"
    },
    "id": "qMEH5Ib11j0M",
    "outputId": "99108670-caa2-4f42-f702-cc6844d695af"
   },
   "outputs": [
    {
     "name": "stdout",
     "output_type": "stream",
     "text": [
      "Found 820 validated image filenames.\n",
      "Found 178 validated image filenames.\n",
      "Found 178 validated image filenames.\n"
     ]
    }
   ],
   "source": [
    "train_generator_vgg = train_datagen_vgg.flow_from_dataframe(\n",
    "    dataframe=train_df,\n",
    "    directory=None,\n",
    "    x_col=\"Filepath\",\n",
    "    y_col=[x for x in range(0,20)],\n",
    "    target_size=(224, 224),\n",
    "    batch_size=5,\n",
    "    class_mode=\"raw\",\n",
    "    \n",
    "    seed=42\n",
    ")\n",
    "valid_generator_vgg = test_datagen_vgg.flow_from_dataframe(\n",
    "    dataframe=val_df,\n",
    "    directory=None,\n",
    "    x_col=\"Filepath\",\n",
    "    y_col=[x for x in range(0,20)],\n",
    "    target_size=(224, 224),\n",
    "    batch_size=5,\n",
    "    class_mode=\"raw\",\n",
    "    shuffle=False\n",
    ")\n",
    "test_generator_vgg= test_datagen_vgg.flow_from_dataframe(\n",
    "    dataframe=test_df,\n",
    "    directory=None,\n",
    "    x_col=\"Filepath\",\n",
    "    y_col=[x for x in range(0,20)],\n",
    "    target_size=(224, 224),\n",
    "     batch_size=1,\n",
    "    class_mode=\"raw\",\n",
    "    shuffle=False\n",
    ")"
   ]
  },
  {
   "cell_type": "code",
   "execution_count": 68,
   "metadata": {
    "colab": {
     "base_uri": "https://localhost:8080/",
     "height": 424
    },
    "id": "7bojGBqHKjZI",
    "outputId": "6756cc47-2580-4b1d-a20f-457106ae7aeb"
   },
   "outputs": [
    {
     "data": {
      "text/html": [
       "\n",
       "  <div id=\"df-6cd2ead5-62ae-4f8e-a5cf-dae8b01f1123\">\n",
       "    <div class=\"colab-df-container\">\n",
       "      <div>\n",
       "<style scoped>\n",
       "    .dataframe tbody tr th:only-of-type {\n",
       "        vertical-align: middle;\n",
       "    }\n",
       "\n",
       "    .dataframe tbody tr th {\n",
       "        vertical-align: top;\n",
       "    }\n",
       "\n",
       "    .dataframe thead th {\n",
       "        text-align: right;\n",
       "    }\n",
       "</style>\n",
       "<table border=\"1\" class=\"dataframe\">\n",
       "  <thead>\n",
       "    <tr style=\"text-align: right;\">\n",
       "      <th></th>\n",
       "      <th>Filepath</th>\n",
       "      <th>TrainValTest</th>\n",
       "      <th>class</th>\n",
       "      <th>0</th>\n",
       "      <th>1</th>\n",
       "      <th>2</th>\n",
       "      <th>3</th>\n",
       "      <th>4</th>\n",
       "      <th>5</th>\n",
       "      <th>6</th>\n",
       "      <th>...</th>\n",
       "      <th>10</th>\n",
       "      <th>11</th>\n",
       "      <th>12</th>\n",
       "      <th>13</th>\n",
       "      <th>14</th>\n",
       "      <th>15</th>\n",
       "      <th>16</th>\n",
       "      <th>17</th>\n",
       "      <th>18</th>\n",
       "      <th>19</th>\n",
       "    </tr>\n",
       "  </thead>\n",
       "  <tbody>\n",
       "    <tr>\n",
       "      <th>0</th>\n",
       "      <td>Data/images/005.Crested_Auklet/Crested_Auklet_...</td>\n",
       "      <td>train</td>\n",
       "      <td>0</td>\n",
       "      <td>1</td>\n",
       "      <td>0</td>\n",
       "      <td>0</td>\n",
       "      <td>0</td>\n",
       "      <td>0</td>\n",
       "      <td>0</td>\n",
       "      <td>0</td>\n",
       "      <td>...</td>\n",
       "      <td>0</td>\n",
       "      <td>0</td>\n",
       "      <td>0</td>\n",
       "      <td>0</td>\n",
       "      <td>0</td>\n",
       "      <td>0</td>\n",
       "      <td>0</td>\n",
       "      <td>0</td>\n",
       "      <td>0</td>\n",
       "      <td>0</td>\n",
       "    </tr>\n",
       "    <tr>\n",
       "      <th>1</th>\n",
       "      <td>Data/images/005.Crested_Auklet/Crested_Auklet_...</td>\n",
       "      <td>train</td>\n",
       "      <td>0</td>\n",
       "      <td>1</td>\n",
       "      <td>0</td>\n",
       "      <td>0</td>\n",
       "      <td>0</td>\n",
       "      <td>0</td>\n",
       "      <td>0</td>\n",
       "      <td>0</td>\n",
       "      <td>...</td>\n",
       "      <td>0</td>\n",
       "      <td>0</td>\n",
       "      <td>0</td>\n",
       "      <td>0</td>\n",
       "      <td>0</td>\n",
       "      <td>0</td>\n",
       "      <td>0</td>\n",
       "      <td>0</td>\n",
       "      <td>0</td>\n",
       "      <td>0</td>\n",
       "    </tr>\n",
       "    <tr>\n",
       "      <th>2</th>\n",
       "      <td>Data/images/005.Crested_Auklet/Crested_Auklet_...</td>\n",
       "      <td>train</td>\n",
       "      <td>0</td>\n",
       "      <td>1</td>\n",
       "      <td>0</td>\n",
       "      <td>0</td>\n",
       "      <td>0</td>\n",
       "      <td>0</td>\n",
       "      <td>0</td>\n",
       "      <td>0</td>\n",
       "      <td>...</td>\n",
       "      <td>0</td>\n",
       "      <td>0</td>\n",
       "      <td>0</td>\n",
       "      <td>0</td>\n",
       "      <td>0</td>\n",
       "      <td>0</td>\n",
       "      <td>0</td>\n",
       "      <td>0</td>\n",
       "      <td>0</td>\n",
       "      <td>0</td>\n",
       "    </tr>\n",
       "    <tr>\n",
       "      <th>3</th>\n",
       "      <td>Data/images/005.Crested_Auklet/Crested_Auklet_...</td>\n",
       "      <td>train</td>\n",
       "      <td>0</td>\n",
       "      <td>1</td>\n",
       "      <td>0</td>\n",
       "      <td>0</td>\n",
       "      <td>0</td>\n",
       "      <td>0</td>\n",
       "      <td>0</td>\n",
       "      <td>0</td>\n",
       "      <td>...</td>\n",
       "      <td>0</td>\n",
       "      <td>0</td>\n",
       "      <td>0</td>\n",
       "      <td>0</td>\n",
       "      <td>0</td>\n",
       "      <td>0</td>\n",
       "      <td>0</td>\n",
       "      <td>0</td>\n",
       "      <td>0</td>\n",
       "      <td>0</td>\n",
       "    </tr>\n",
       "    <tr>\n",
       "      <th>4</th>\n",
       "      <td>Data/images/005.Crested_Auklet/Crested_Auklet_...</td>\n",
       "      <td>train</td>\n",
       "      <td>0</td>\n",
       "      <td>1</td>\n",
       "      <td>0</td>\n",
       "      <td>0</td>\n",
       "      <td>0</td>\n",
       "      <td>0</td>\n",
       "      <td>0</td>\n",
       "      <td>0</td>\n",
       "      <td>...</td>\n",
       "      <td>0</td>\n",
       "      <td>0</td>\n",
       "      <td>0</td>\n",
       "      <td>0</td>\n",
       "      <td>0</td>\n",
       "      <td>0</td>\n",
       "      <td>0</td>\n",
       "      <td>0</td>\n",
       "      <td>0</td>\n",
       "      <td>0</td>\n",
       "    </tr>\n",
       "    <tr>\n",
       "      <th>...</th>\n",
       "      <td>...</td>\n",
       "      <td>...</td>\n",
       "      <td>...</td>\n",
       "      <td>...</td>\n",
       "      <td>...</td>\n",
       "      <td>...</td>\n",
       "      <td>...</td>\n",
       "      <td>...</td>\n",
       "      <td>...</td>\n",
       "      <td>...</td>\n",
       "      <td>...</td>\n",
       "      <td>...</td>\n",
       "      <td>...</td>\n",
       "      <td>...</td>\n",
       "      <td>...</td>\n",
       "      <td>...</td>\n",
       "      <td>...</td>\n",
       "      <td>...</td>\n",
       "      <td>...</td>\n",
       "      <td>...</td>\n",
       "      <td>...</td>\n",
       "    </tr>\n",
       "    <tr>\n",
       "      <th>1171</th>\n",
       "      <td>Data/images/168.Kentucky_Warbler/Kentucky_Warb...</td>\n",
       "      <td>test</td>\n",
       "      <td>19</td>\n",
       "      <td>0</td>\n",
       "      <td>0</td>\n",
       "      <td>0</td>\n",
       "      <td>0</td>\n",
       "      <td>0</td>\n",
       "      <td>0</td>\n",
       "      <td>0</td>\n",
       "      <td>...</td>\n",
       "      <td>0</td>\n",
       "      <td>0</td>\n",
       "      <td>0</td>\n",
       "      <td>0</td>\n",
       "      <td>0</td>\n",
       "      <td>0</td>\n",
       "      <td>0</td>\n",
       "      <td>0</td>\n",
       "      <td>0</td>\n",
       "      <td>1</td>\n",
       "    </tr>\n",
       "    <tr>\n",
       "      <th>1172</th>\n",
       "      <td>Data/images/168.Kentucky_Warbler/Kentucky_Warb...</td>\n",
       "      <td>test</td>\n",
       "      <td>19</td>\n",
       "      <td>0</td>\n",
       "      <td>0</td>\n",
       "      <td>0</td>\n",
       "      <td>0</td>\n",
       "      <td>0</td>\n",
       "      <td>0</td>\n",
       "      <td>0</td>\n",
       "      <td>...</td>\n",
       "      <td>0</td>\n",
       "      <td>0</td>\n",
       "      <td>0</td>\n",
       "      <td>0</td>\n",
       "      <td>0</td>\n",
       "      <td>0</td>\n",
       "      <td>0</td>\n",
       "      <td>0</td>\n",
       "      <td>0</td>\n",
       "      <td>1</td>\n",
       "    </tr>\n",
       "    <tr>\n",
       "      <th>1173</th>\n",
       "      <td>Data/images/168.Kentucky_Warbler/Kentucky_Warb...</td>\n",
       "      <td>test</td>\n",
       "      <td>19</td>\n",
       "      <td>0</td>\n",
       "      <td>0</td>\n",
       "      <td>0</td>\n",
       "      <td>0</td>\n",
       "      <td>0</td>\n",
       "      <td>0</td>\n",
       "      <td>0</td>\n",
       "      <td>...</td>\n",
       "      <td>0</td>\n",
       "      <td>0</td>\n",
       "      <td>0</td>\n",
       "      <td>0</td>\n",
       "      <td>0</td>\n",
       "      <td>0</td>\n",
       "      <td>0</td>\n",
       "      <td>0</td>\n",
       "      <td>0</td>\n",
       "      <td>1</td>\n",
       "    </tr>\n",
       "    <tr>\n",
       "      <th>1174</th>\n",
       "      <td>Data/images/168.Kentucky_Warbler/Kentucky_Warb...</td>\n",
       "      <td>test</td>\n",
       "      <td>19</td>\n",
       "      <td>0</td>\n",
       "      <td>0</td>\n",
       "      <td>0</td>\n",
       "      <td>0</td>\n",
       "      <td>0</td>\n",
       "      <td>0</td>\n",
       "      <td>0</td>\n",
       "      <td>...</td>\n",
       "      <td>0</td>\n",
       "      <td>0</td>\n",
       "      <td>0</td>\n",
       "      <td>0</td>\n",
       "      <td>0</td>\n",
       "      <td>0</td>\n",
       "      <td>0</td>\n",
       "      <td>0</td>\n",
       "      <td>0</td>\n",
       "      <td>1</td>\n",
       "    </tr>\n",
       "    <tr>\n",
       "      <th>1175</th>\n",
       "      <td>Data/images/168.Kentucky_Warbler/Kentucky_Warb...</td>\n",
       "      <td>test</td>\n",
       "      <td>19</td>\n",
       "      <td>0</td>\n",
       "      <td>0</td>\n",
       "      <td>0</td>\n",
       "      <td>0</td>\n",
       "      <td>0</td>\n",
       "      <td>0</td>\n",
       "      <td>0</td>\n",
       "      <td>...</td>\n",
       "      <td>0</td>\n",
       "      <td>0</td>\n",
       "      <td>0</td>\n",
       "      <td>0</td>\n",
       "      <td>0</td>\n",
       "      <td>0</td>\n",
       "      <td>0</td>\n",
       "      <td>0</td>\n",
       "      <td>0</td>\n",
       "      <td>1</td>\n",
       "    </tr>\n",
       "  </tbody>\n",
       "</table>\n",
       "<p>1176 rows × 23 columns</p>\n",
       "</div>\n",
       "      <button class=\"colab-df-convert\" onclick=\"convertToInteractive('df-6cd2ead5-62ae-4f8e-a5cf-dae8b01f1123')\"\n",
       "              title=\"Convert this dataframe to an interactive table.\"\n",
       "              style=\"display:none;\">\n",
       "        \n",
       "  <svg xmlns=\"http://www.w3.org/2000/svg\" height=\"24px\"viewBox=\"0 0 24 24\"\n",
       "       width=\"24px\">\n",
       "    <path d=\"M0 0h24v24H0V0z\" fill=\"none\"/>\n",
       "    <path d=\"M18.56 5.44l.94 2.06.94-2.06 2.06-.94-2.06-.94-.94-2.06-.94 2.06-2.06.94zm-11 1L8.5 8.5l.94-2.06 2.06-.94-2.06-.94L8.5 2.5l-.94 2.06-2.06.94zm10 10l.94 2.06.94-2.06 2.06-.94-2.06-.94-.94-2.06-.94 2.06-2.06.94z\"/><path d=\"M17.41 7.96l-1.37-1.37c-.4-.4-.92-.59-1.43-.59-.52 0-1.04.2-1.43.59L10.3 9.45l-7.72 7.72c-.78.78-.78 2.05 0 2.83L4 21.41c.39.39.9.59 1.41.59.51 0 1.02-.2 1.41-.59l7.78-7.78 2.81-2.81c.8-.78.8-2.07 0-2.86zM5.41 20L4 18.59l7.72-7.72 1.47 1.35L5.41 20z\"/>\n",
       "  </svg>\n",
       "      </button>\n",
       "      \n",
       "  <style>\n",
       "    .colab-df-container {\n",
       "      display:flex;\n",
       "      flex-wrap:wrap;\n",
       "      gap: 12px;\n",
       "    }\n",
       "\n",
       "    .colab-df-convert {\n",
       "      background-color: #E8F0FE;\n",
       "      border: none;\n",
       "      border-radius: 50%;\n",
       "      cursor: pointer;\n",
       "      display: none;\n",
       "      fill: #1967D2;\n",
       "      height: 32px;\n",
       "      padding: 0 0 0 0;\n",
       "      width: 32px;\n",
       "    }\n",
       "\n",
       "    .colab-df-convert:hover {\n",
       "      background-color: #E2EBFA;\n",
       "      box-shadow: 0px 1px 2px rgba(60, 64, 67, 0.3), 0px 1px 3px 1px rgba(60, 64, 67, 0.15);\n",
       "      fill: #174EA6;\n",
       "    }\n",
       "\n",
       "    [theme=dark] .colab-df-convert {\n",
       "      background-color: #3B4455;\n",
       "      fill: #D2E3FC;\n",
       "    }\n",
       "\n",
       "    [theme=dark] .colab-df-convert:hover {\n",
       "      background-color: #434B5C;\n",
       "      box-shadow: 0px 1px 3px 1px rgba(0, 0, 0, 0.15);\n",
       "      filter: drop-shadow(0px 1px 2px rgba(0, 0, 0, 0.3));\n",
       "      fill: #FFFFFF;\n",
       "    }\n",
       "  </style>\n",
       "\n",
       "      <script>\n",
       "        const buttonEl =\n",
       "          document.querySelector('#df-6cd2ead5-62ae-4f8e-a5cf-dae8b01f1123 button.colab-df-convert');\n",
       "        buttonEl.style.display =\n",
       "          google.colab.kernel.accessAllowed ? 'block' : 'none';\n",
       "\n",
       "        async function convertToInteractive(key) {\n",
       "          const element = document.querySelector('#df-6cd2ead5-62ae-4f8e-a5cf-dae8b01f1123');\n",
       "          const dataTable =\n",
       "            await google.colab.kernel.invokeFunction('convertToInteractive',\n",
       "                                                     [key], {});\n",
       "          if (!dataTable) return;\n",
       "\n",
       "          const docLinkHtml = 'Like what you see? Visit the ' +\n",
       "            '<a target=\"_blank\" href=https://colab.research.google.com/notebooks/data_table.ipynb>data table notebook</a>'\n",
       "            + ' to learn more about interactive tables.';\n",
       "          element.innerHTML = '';\n",
       "          dataTable['output_type'] = 'display_data';\n",
       "          await google.colab.output.renderOutput(dataTable, element);\n",
       "          const docLink = document.createElement('div');\n",
       "          docLink.innerHTML = docLinkHtml;\n",
       "          element.appendChild(docLink);\n",
       "        }\n",
       "      </script>\n",
       "    </div>\n",
       "  </div>\n",
       "  "
      ],
      "text/plain": [
       "                                               Filepath TrainValTest  class  \\\n",
       "0     Data/images/005.Crested_Auklet/Crested_Auklet_...        train      0   \n",
       "1     Data/images/005.Crested_Auklet/Crested_Auklet_...        train      0   \n",
       "2     Data/images/005.Crested_Auklet/Crested_Auklet_...        train      0   \n",
       "3     Data/images/005.Crested_Auklet/Crested_Auklet_...        train      0   \n",
       "4     Data/images/005.Crested_Auklet/Crested_Auklet_...        train      0   \n",
       "...                                                 ...          ...    ...   \n",
       "1171  Data/images/168.Kentucky_Warbler/Kentucky_Warb...         test     19   \n",
       "1172  Data/images/168.Kentucky_Warbler/Kentucky_Warb...         test     19   \n",
       "1173  Data/images/168.Kentucky_Warbler/Kentucky_Warb...         test     19   \n",
       "1174  Data/images/168.Kentucky_Warbler/Kentucky_Warb...         test     19   \n",
       "1175  Data/images/168.Kentucky_Warbler/Kentucky_Warb...         test     19   \n",
       "\n",
       "      0  1  2  3  4  5  6  ...  10  11  12  13  14  15  16  17  18  19  \n",
       "0     1  0  0  0  0  0  0  ...   0   0   0   0   0   0   0   0   0   0  \n",
       "1     1  0  0  0  0  0  0  ...   0   0   0   0   0   0   0   0   0   0  \n",
       "2     1  0  0  0  0  0  0  ...   0   0   0   0   0   0   0   0   0   0  \n",
       "3     1  0  0  0  0  0  0  ...   0   0   0   0   0   0   0   0   0   0  \n",
       "4     1  0  0  0  0  0  0  ...   0   0   0   0   0   0   0   0   0   0  \n",
       "...  .. .. .. .. .. .. ..  ...  ..  ..  ..  ..  ..  ..  ..  ..  ..  ..  \n",
       "1171  0  0  0  0  0  0  0  ...   0   0   0   0   0   0   0   0   0   1  \n",
       "1172  0  0  0  0  0  0  0  ...   0   0   0   0   0   0   0   0   0   1  \n",
       "1173  0  0  0  0  0  0  0  ...   0   0   0   0   0   0   0   0   0   1  \n",
       "1174  0  0  0  0  0  0  0  ...   0   0   0   0   0   0   0   0   0   1  \n",
       "1175  0  0  0  0  0  0  0  ...   0   0   0   0   0   0   0   0   0   1  \n",
       "\n",
       "[1176 rows x 23 columns]"
      ]
     },
     "execution_count": 68,
     "metadata": {},
     "output_type": "execute_result"
    }
   ],
   "source": [
    "data_df_one_hot"
   ]
  },
  {
   "cell_type": "code",
   "execution_count": 68,
   "metadata": {
    "id": "QvSXdXhgKrkV"
   },
   "outputs": [],
   "source": []
  },
  {
   "cell_type": "markdown",
   "metadata": {
    "id": "xfYWOc2uKzdL"
   },
   "source": [
    "VGG16 Model. following the required flatten, batch normalization, relu layers, dropout and softmax. Using checkpoint and early stopping and loading the best model for predicting on the test data."
   ]
  },
  {
   "cell_type": "code",
   "execution_count": 83,
   "metadata": {
    "id": "MoseZWnJK1Z4"
   },
   "outputs": [],
   "source": [
    "input_shape=(224, 224,3)\n",
    "n_classes=20\n",
    "\n",
    "conv_base = VGG16(include_top=False,weights='imagenet', input_shape=input_shape)\n",
    "conv_base.trainable=False\n",
    "\n",
    "top_model = conv_base.output\n",
    "top_model = Flatten(name=\"flatten\")(top_model)\n",
    "top_model=BatchNormalization()(top_model)\n",
    "top_model = Dense(200, activation='relu')(top_model)\n",
    "top_model = Dense(100, activation='relu')(top_model)\n",
    "top_model = Dense(50, activation='relu')(top_model)\n",
    "#top_model = Dense(n_classes, activation='relu')(top_model)\n",
    "top_model = Dropout(0.2)(top_model)\n",
    "output_layer = Dense(n_classes, activation='softmax')(top_model)\n",
    "\n",
    "vgg_model = Model(inputs=conv_base.input, outputs=output_layer)\n",
    "\n",
    "vgg_model.compile(optimizer=Adam(learning_rate=0.001), \n",
    "                  loss='categorical_crossentropy',\n",
    "                  metrics=['accuracy'])\n",
    "\n",
    "n_epochs = 100\n"
   ]
  },
  {
   "cell_type": "code",
   "execution_count": 84,
   "metadata": {
    "id": "7RmE6GS2LXVf"
   },
   "outputs": [],
   "source": [
    "def print_classification_score(model,test_generator):\n",
    "  filenames = test_generator.filenames\n",
    "  nb_samples = len(filenames)\n",
    "  y_predict = model.predict(test_generator,steps = nb_samples)\n",
    "  predicted_labels=np.argmax(y_predict,axis=1)\n",
    "  y_true=np.argmax(test_generator.labels,axis=1)\n",
    "  print(classification_report(y_true,predicted_labels,target_names=[str(x) for x in range(0,20)]))"
   ]
  },
  {
   "cell_type": "code",
   "execution_count": 85,
   "metadata": {
    "id": "vTD0WDHRLdYW"
   },
   "outputs": [],
   "source": [
    "tl_checkpoint_1 = ModelCheckpoint(filepath='vgg16b_best.hdf5',\n",
    "                                  save_best_only=True,\n",
    "                                  verbose=1)\n",
    "\n",
    "early_stop = EarlyStopping(monitor='val_loss',\n",
    "                           patience=10,\n",
    "                           restore_best_weights=True,\n",
    "                           mode='min')"
   ]
  },
  {
   "cell_type": "code",
   "execution_count": 86,
   "metadata": {
    "colab": {
     "base_uri": "https://localhost:8080/"
    },
    "id": "EssHyR0WLgwi",
    "outputId": "8c486858-a243-4f93-cddc-ead86acb3d90"
   },
   "outputs": [
    {
     "name": "stdout",
     "output_type": "stream",
     "text": [
      "Epoch 1/100\n",
      "164/164 [==============================] - ETA: 0s - loss: 2.9198 - accuracy: 0.1634\n",
      "Epoch 1: val_loss improved from inf to 3.09762, saving model to vgg16b_best.hdf5\n",
      "164/164 [==============================] - 23s 135ms/step - loss: 2.9198 - accuracy: 0.1634 - val_loss: 3.0976 - val_accuracy: 0.3820\n",
      "Epoch 2/100\n",
      "164/164 [==============================] - ETA: 0s - loss: 2.1250 - accuracy: 0.3683\n",
      "Epoch 2: val_loss improved from 3.09762 to 2.72780, saving model to vgg16b_best.hdf5\n",
      "164/164 [==============================] - 21s 125ms/step - loss: 2.1250 - accuracy: 0.3683 - val_loss: 2.7278 - val_accuracy: 0.4944\n",
      "Epoch 3/100\n",
      "164/164 [==============================] - ETA: 0s - loss: 1.8353 - accuracy: 0.4451\n",
      "Epoch 3: val_loss improved from 2.72780 to 2.46301, saving model to vgg16b_best.hdf5\n",
      "164/164 [==============================] - 21s 126ms/step - loss: 1.8353 - accuracy: 0.4451 - val_loss: 2.4630 - val_accuracy: 0.5618\n",
      "Epoch 4/100\n",
      "164/164 [==============================] - ETA: 0s - loss: 1.5273 - accuracy: 0.5427\n",
      "Epoch 4: val_loss improved from 2.46301 to 2.35628, saving model to vgg16b_best.hdf5\n",
      "164/164 [==============================] - 21s 126ms/step - loss: 1.5273 - accuracy: 0.5427 - val_loss: 2.3563 - val_accuracy: 0.6067\n",
      "Epoch 5/100\n",
      "164/164 [==============================] - ETA: 0s - loss: 1.2957 - accuracy: 0.6146\n",
      "Epoch 5: val_loss improved from 2.35628 to 2.34332, saving model to vgg16b_best.hdf5\n",
      "164/164 [==============================] - 21s 125ms/step - loss: 1.2957 - accuracy: 0.6146 - val_loss: 2.3433 - val_accuracy: 0.6573\n",
      "Epoch 6/100\n",
      "164/164 [==============================] - ETA: 0s - loss: 1.1673 - accuracy: 0.6463\n",
      "Epoch 6: val_loss did not improve from 2.34332\n",
      "164/164 [==============================] - 20s 123ms/step - loss: 1.1673 - accuracy: 0.6463 - val_loss: 2.6197 - val_accuracy: 0.6067\n",
      "Epoch 7/100\n",
      "164/164 [==============================] - ETA: 0s - loss: 1.0715 - accuracy: 0.6732\n",
      "Epoch 7: val_loss did not improve from 2.34332\n",
      "164/164 [==============================] - 20s 123ms/step - loss: 1.0715 - accuracy: 0.6732 - val_loss: 2.3628 - val_accuracy: 0.6517\n",
      "Epoch 8/100\n",
      "164/164 [==============================] - ETA: 0s - loss: 1.0559 - accuracy: 0.6988\n",
      "Epoch 8: val_loss improved from 2.34332 to 2.06653, saving model to vgg16b_best.hdf5\n",
      "164/164 [==============================] - 21s 126ms/step - loss: 1.0559 - accuracy: 0.6988 - val_loss: 2.0665 - val_accuracy: 0.7022\n",
      "Epoch 9/100\n",
      "164/164 [==============================] - ETA: 0s - loss: 0.8649 - accuracy: 0.7402\n",
      "Epoch 9: val_loss did not improve from 2.06653\n",
      "164/164 [==============================] - 20s 124ms/step - loss: 0.8649 - accuracy: 0.7402 - val_loss: 2.7155 - val_accuracy: 0.6742\n",
      "Epoch 10/100\n",
      "164/164 [==============================] - ETA: 0s - loss: 0.7900 - accuracy: 0.7793\n",
      "Epoch 10: val_loss did not improve from 2.06653\n",
      "164/164 [==============================] - 21s 125ms/step - loss: 0.7900 - accuracy: 0.7793 - val_loss: 2.5043 - val_accuracy: 0.7079\n",
      "Epoch 11/100\n",
      "164/164 [==============================] - ETA: 0s - loss: 0.7034 - accuracy: 0.7744\n",
      "Epoch 11: val_loss did not improve from 2.06653\n",
      "164/164 [==============================] - 22s 133ms/step - loss: 0.7034 - accuracy: 0.7744 - val_loss: 3.3924 - val_accuracy: 0.6573\n",
      "Epoch 12/100\n",
      "164/164 [==============================] - ETA: 0s - loss: 0.7766 - accuracy: 0.7768\n",
      "Epoch 12: val_loss did not improve from 2.06653\n",
      "164/164 [==============================] - 21s 128ms/step - loss: 0.7766 - accuracy: 0.7768 - val_loss: 2.9373 - val_accuracy: 0.7022\n",
      "Epoch 13/100\n",
      "164/164 [==============================] - ETA: 0s - loss: 0.7585 - accuracy: 0.7890\n",
      "Epoch 13: val_loss did not improve from 2.06653\n",
      "164/164 [==============================] - 20s 124ms/step - loss: 0.7585 - accuracy: 0.7890 - val_loss: 2.8990 - val_accuracy: 0.7303\n",
      "Epoch 14/100\n",
      "164/164 [==============================] - ETA: 0s - loss: 0.6935 - accuracy: 0.7939\n",
      "Epoch 14: val_loss did not improve from 2.06653\n",
      "164/164 [==============================] - 20s 125ms/step - loss: 0.6935 - accuracy: 0.7939 - val_loss: 2.3151 - val_accuracy: 0.7135\n",
      "Epoch 15/100\n",
      "164/164 [==============================] - ETA: 0s - loss: 0.5759 - accuracy: 0.8329\n",
      "Epoch 15: val_loss did not improve from 2.06653\n",
      "164/164 [==============================] - 21s 131ms/step - loss: 0.5759 - accuracy: 0.8329 - val_loss: 2.4290 - val_accuracy: 0.7472\n",
      "Epoch 16/100\n",
      "164/164 [==============================] - ETA: 0s - loss: 0.5436 - accuracy: 0.8524\n",
      "Epoch 16: val_loss did not improve from 2.06653\n",
      "164/164 [==============================] - 21s 127ms/step - loss: 0.5436 - accuracy: 0.8524 - val_loss: 2.6156 - val_accuracy: 0.7472\n",
      "Epoch 17/100\n",
      "164/164 [==============================] - ETA: 0s - loss: 0.6152 - accuracy: 0.8354\n",
      "Epoch 17: val_loss did not improve from 2.06653\n",
      "164/164 [==============================] - 21s 125ms/step - loss: 0.6152 - accuracy: 0.8354 - val_loss: 2.0919 - val_accuracy: 0.7528\n",
      "Epoch 18/100\n",
      "164/164 [==============================] - ETA: 0s - loss: 0.5094 - accuracy: 0.8524\n",
      "Epoch 18: val_loss improved from 2.06653 to 2.00960, saving model to vgg16b_best.hdf5\n",
      "164/164 [==============================] - 22s 135ms/step - loss: 0.5094 - accuracy: 0.8524 - val_loss: 2.0096 - val_accuracy: 0.7921\n",
      "Epoch 19/100\n",
      "164/164 [==============================] - ETA: 0s - loss: 0.4584 - accuracy: 0.8805\n",
      "Epoch 19: val_loss did not improve from 2.00960\n",
      "164/164 [==============================] - 20s 125ms/step - loss: 0.4584 - accuracy: 0.8805 - val_loss: 3.6813 - val_accuracy: 0.6966\n",
      "Epoch 20/100\n",
      "164/164 [==============================] - ETA: 0s - loss: 0.4263 - accuracy: 0.8720\n",
      "Epoch 20: val_loss did not improve from 2.00960\n",
      "164/164 [==============================] - 20s 124ms/step - loss: 0.4263 - accuracy: 0.8720 - val_loss: 3.8249 - val_accuracy: 0.7022\n",
      "Epoch 21/100\n",
      "164/164 [==============================] - ETA: 0s - loss: 0.4088 - accuracy: 0.8793\n",
      "Epoch 21: val_loss did not improve from 2.00960\n",
      "164/164 [==============================] - 21s 128ms/step - loss: 0.4088 - accuracy: 0.8793 - val_loss: 2.7466 - val_accuracy: 0.7303\n",
      "Epoch 22/100\n",
      "164/164 [==============================] - ETA: 0s - loss: 0.5130 - accuracy: 0.8707\n",
      "Epoch 22: val_loss did not improve from 2.00960\n",
      "164/164 [==============================] - 20s 125ms/step - loss: 0.5130 - accuracy: 0.8707 - val_loss: 3.3210 - val_accuracy: 0.7191\n",
      "Epoch 23/100\n",
      "164/164 [==============================] - ETA: 0s - loss: 0.5024 - accuracy: 0.8512\n",
      "Epoch 23: val_loss did not improve from 2.00960\n",
      "164/164 [==============================] - 20s 125ms/step - loss: 0.5024 - accuracy: 0.8512 - val_loss: 3.7191 - val_accuracy: 0.6854\n",
      "Epoch 24/100\n",
      "164/164 [==============================] - ETA: 0s - loss: 0.5036 - accuracy: 0.8646\n",
      "Epoch 24: val_loss did not improve from 2.00960\n",
      "164/164 [==============================] - 21s 125ms/step - loss: 0.5036 - accuracy: 0.8646 - val_loss: 2.3612 - val_accuracy: 0.7584\n",
      "Epoch 25/100\n",
      "164/164 [==============================] - ETA: 0s - loss: 0.4606 - accuracy: 0.8683\n",
      "Epoch 25: val_loss did not improve from 2.00960\n",
      "164/164 [==============================] - 21s 125ms/step - loss: 0.4606 - accuracy: 0.8683 - val_loss: 2.8779 - val_accuracy: 0.7416\n",
      "Epoch 26/100\n",
      "164/164 [==============================] - ETA: 0s - loss: 0.3609 - accuracy: 0.8988\n",
      "Epoch 26: val_loss did not improve from 2.00960\n",
      "164/164 [==============================] - 20s 123ms/step - loss: 0.3609 - accuracy: 0.8988 - val_loss: 3.3970 - val_accuracy: 0.7303\n",
      "Epoch 27/100\n",
      "164/164 [==============================] - ETA: 0s - loss: 0.5066 - accuracy: 0.8720\n",
      "Epoch 27: val_loss did not improve from 2.00960\n",
      "164/164 [==============================] - 20s 124ms/step - loss: 0.5066 - accuracy: 0.8720 - val_loss: 2.9835 - val_accuracy: 0.7079\n",
      "Epoch 28/100\n",
      "164/164 [==============================] - ETA: 0s - loss: 0.5418 - accuracy: 0.8659\n",
      "Epoch 28: val_loss did not improve from 2.00960\n",
      "164/164 [==============================] - 20s 124ms/step - loss: 0.5418 - accuracy: 0.8659 - val_loss: 3.3581 - val_accuracy: 0.7303\n"
     ]
    }
   ],
   "source": [
    "vgg_history = vgg_model.fit(train_generator_vgg,\n",
    "                            batch_size=5,\n",
    "                            epochs=n_epochs,\n",
    "                            validation_data=valid_generator_vgg,\n",
    "                            #steps_per_epoch=n_steps,\n",
    "                            #validation_steps=n_val_steps,\n",
    "                            callbacks=[tl_checkpoint_1, early_stop],\n",
    "                            verbose=1)\n"
   ]
  },
  {
   "cell_type": "code",
   "execution_count": 87,
   "metadata": {
    "id": "84l32zt2Ljny"
   },
   "outputs": [],
   "source": [
    "def plot_epoch_vs_acc(history):\n",
    "    plt.plot([1-x for x in history.history['accuracy']])\n",
    "    plt.plot([1-x for x in history.history['val_accuracy']])\n",
    "    plt.title('error vs epoch')\n",
    "    plt.ylabel('error')\n",
    "    plt.xlabel('epoch')\n",
    "    plt.legend(['train', 'val'], loc='upper left')\n",
    "    plt.show()"
   ]
  },
  {
   "cell_type": "markdown",
   "metadata": {
    "id": "paB-npBOLqtq"
   },
   "source": [
    "Error vs accuracy plot for train and validation"
   ]
  },
  {
   "cell_type": "code",
   "execution_count": 88,
   "metadata": {
    "colab": {
     "base_uri": "https://localhost:8080/",
     "height": 295
    },
    "id": "tUI3oHF6LnFh",
    "outputId": "c82fd35b-6312-4c4c-d2c4-b7ded5cc5686"
   },
   "outputs": [
    {
     "data": {
      "image/png": "[encoded data removed]",
      "text/plain": [
       "<Figure size 432x288 with 1 Axes>"
      ]
     },
     "metadata": {
      "needs_background": "light"
     },
     "output_type": "display_data"
    }
   ],
   "source": [
    "plot_epoch_vs_acc(vgg_history)"
   ]
  },
  {
   "cell_type": "code",
   "execution_count": 89,
   "metadata": {
    "id": "COO6UiIXLyeJ"
   },
   "outputs": [],
   "source": [
    "vgg_model.load_weights('vgg16b_best.hdf5')"
   ]
  },
  {
   "cell_type": "markdown",
   "metadata": {
    "id": "5-1y2LwWMAbR"
   },
   "source": [
    "Recall, precision and F1 score for test -  VGG16"
   ]
  },
  {
   "cell_type": "code",
   "execution_count": 90,
   "metadata": {
    "colab": {
     "base_uri": "https://localhost:8080/"
    },
    "id": "IILjDOpFL9Wa",
    "outputId": "b6b022da-10c5-43fc-d0e8-3419a5b7742c"
   },
   "outputs": [
    {
     "name": "stdout",
     "output_type": "stream",
     "text": [
      "178/178 [==============================] - 2s 11ms/step\n",
      "              precision    recall  f1-score   support\n",
      "\n",
      "           0       0.88      1.00      0.93         7\n",
      "           1       0.33      0.22      0.27         9\n",
      "           2       0.80      0.44      0.57         9\n",
      "           3       0.75      0.67      0.71         9\n",
      "           4       0.80      0.44      0.57         9\n",
      "           5       0.80      0.89      0.84         9\n",
      "           6       0.80      0.89      0.84         9\n",
      "           7       0.67      0.67      0.67         9\n",
      "           8       0.62      0.56      0.59         9\n",
      "           9       0.88      0.78      0.82         9\n",
      "          10       0.44      0.78      0.56         9\n",
      "          11       0.73      0.89      0.80         9\n",
      "          12       0.88      0.78      0.82         9\n",
      "          13       0.44      0.89      0.59         9\n",
      "          14       0.71      0.56      0.63         9\n",
      "          15       0.38      0.33      0.35         9\n",
      "          16       1.00      1.00      1.00         9\n",
      "          17       1.00      0.56      0.71         9\n",
      "          18       0.78      0.78      0.78         9\n",
      "          19       0.70      0.78      0.74         9\n",
      "\n",
      "    accuracy                           0.69       178\n",
      "   macro avg       0.72      0.69      0.69       178\n",
      "weighted avg       0.72      0.69      0.69       178\n",
      "\n"
     ]
    }
   ],
   "source": [
    "print_classification_score(vgg_model,test_generator_vgg)"
   ]
  },
  {
   "cell_type": "markdown",
   "metadata": {
    "id": "vy_LTdvRMIgU"
   },
   "source": [
    "Efficient Net BO, using the required flattening, Batch normalization ,relu layers, drop out, softmax, early stopping and checkpoint."
   ]
  },
  {
   "cell_type": "code",
   "execution_count": 94,
   "metadata": {
    "id": "OEdpgPyGMMUg"
   },
   "outputs": [],
   "source": [
    "input_shape=(224, 224,3)\n",
    "n_classes=20\n",
    "\n",
    "conv_base = EfficientNetB0(include_top=False,weights='imagenet', input_shape=input_shape)\n",
    "conv_base.trainable=False\n",
    "\n",
    "top_model = conv_base.output\n",
    "top_model = Flatten(name=\"flatten\")(top_model)\n",
    "top_model=BatchNormalization()(top_model)\n",
    "#top_model = Dense(400, activation='relu')(top_model)\n",
    "top_model = Dense(200, activation='relu')(top_model)\n",
    "\n",
    "top_model = Dense(100, activation='relu')(top_model)\n",
    "#top_model = Dense(n_classes, activation='relu')(top_model)\n",
    "top_model = Dropout(0.2)(top_model)\n",
    "output_layer = Dense(n_classes, activation='softmax')(top_model)\n",
    "\n",
    "efficientNet_model = Model(inputs=conv_base.input, outputs=output_layer)\n",
    "\n",
    "efficientNet_model.compile(optimizer=Adam(learning_rate=0.001), \n",
    "                  loss='categorical_crossentropy',\n",
    "                  metrics=['accuracy'])\n",
    "\n",
    "n_epochs = 100\n"
   ]
  },
  {
   "cell_type": "code",
   "execution_count": 95,
   "metadata": {
    "id": "9ymrF2nOMDv5"
   },
   "outputs": [],
   "source": [
    "tl_checkpoint_1 = ModelCheckpoint(filepath='efficient_best.hdf5',\n",
    "                                  save_best_only=True,\n",
    "                                  verbose=1)\n",
    "\n",
    "early_stop = EarlyStopping(monitor='val_loss',\n",
    "                           patience=10,\n",
    "                           restore_best_weights=True,\n",
    "                           mode='min')"
   ]
  },
  {
   "cell_type": "code",
   "execution_count": 96,
   "metadata": {
    "colab": {
     "base_uri": "https://localhost:8080/"
    },
    "id": "07NBJX8aMPRU",
    "outputId": "f3a39ae7-a3a6-45ff-945f-91c9ad1ad366"
   },
   "outputs": [
    {
     "name": "stdout",
     "output_type": "stream",
     "text": [
      "Epoch 1/100\n",
      "164/164 [==============================] - ETA: 0s - loss: 10.6348 - accuracy: 0.1683\n",
      "Epoch 1: val_loss improved from inf to 2.99312, saving model to efficient_best.hdf5\n",
      "164/164 [==============================] - 24s 116ms/step - loss: 10.6348 - accuracy: 0.1683 - val_loss: 2.9931 - val_accuracy: 0.3820\n",
      "Epoch 2/100\n",
      "164/164 [==============================] - ETA: 0s - loss: 3.5150 - accuracy: 0.2720\n",
      "Epoch 2: val_loss improved from 2.99312 to 2.37762, saving model to efficient_best.hdf5\n",
      "164/164 [==============================] - 18s 107ms/step - loss: 3.5150 - accuracy: 0.2720 - val_loss: 2.3776 - val_accuracy: 0.3708\n",
      "Epoch 3/100\n",
      "164/164 [==============================] - ETA: 0s - loss: 2.6784 - accuracy: 0.2841\n",
      "Epoch 3: val_loss improved from 2.37762 to 2.18494, saving model to efficient_best.hdf5\n",
      "164/164 [==============================] - 18s 107ms/step - loss: 2.6784 - accuracy: 0.2841 - val_loss: 2.1849 - val_accuracy: 0.4045\n",
      "Epoch 4/100\n",
      "164/164 [==============================] - ETA: 0s - loss: 2.3601 - accuracy: 0.3354\n",
      "Epoch 4: val_loss did not improve from 2.18494\n",
      "164/164 [==============================] - 17s 102ms/step - loss: 2.3601 - accuracy: 0.3354 - val_loss: 2.2037 - val_accuracy: 0.4270\n",
      "Epoch 5/100\n",
      "164/164 [==============================] - ETA: 0s - loss: 2.3111 - accuracy: 0.3720\n",
      "Epoch 5: val_loss improved from 2.18494 to 1.39616, saving model to efficient_best.hdf5\n",
      "164/164 [==============================] - 18s 113ms/step - loss: 2.3111 - accuracy: 0.3720 - val_loss: 1.3962 - val_accuracy: 0.5674\n",
      "Epoch 6/100\n",
      "164/164 [==============================] - ETA: 0s - loss: 2.1983 - accuracy: 0.3756\n",
      "Epoch 6: val_loss did not improve from 1.39616\n",
      "164/164 [==============================] - 17s 103ms/step - loss: 2.1983 - accuracy: 0.3756 - val_loss: 1.9438 - val_accuracy: 0.5169\n",
      "Epoch 7/100\n",
      "164/164 [==============================] - ETA: 0s - loss: 1.9813 - accuracy: 0.4476\n",
      "Epoch 7: val_loss did not improve from 1.39616\n",
      "164/164 [==============================] - 17s 105ms/step - loss: 1.9813 - accuracy: 0.4476 - val_loss: 1.7225 - val_accuracy: 0.5562\n",
      "Epoch 8/100\n",
      "164/164 [==============================] - ETA: 0s - loss: 1.8788 - accuracy: 0.4671\n",
      "Epoch 8: val_loss did not improve from 1.39616\n",
      "164/164 [==============================] - 17s 102ms/step - loss: 1.8788 - accuracy: 0.4671 - val_loss: 1.8307 - val_accuracy: 0.6067\n",
      "Epoch 9/100\n",
      "164/164 [==============================] - ETA: 0s - loss: 1.9963 - accuracy: 0.4476\n",
      "Epoch 9: val_loss did not improve from 1.39616\n",
      "164/164 [==============================] - 17s 103ms/step - loss: 1.9963 - accuracy: 0.4476 - val_loss: 1.4429 - val_accuracy: 0.6348\n",
      "Epoch 10/100\n",
      "164/164 [==============================] - ETA: 0s - loss: 1.8415 - accuracy: 0.4695\n",
      "Epoch 10: val_loss did not improve from 1.39616\n",
      "164/164 [==============================] - 17s 102ms/step - loss: 1.8415 - accuracy: 0.4695 - val_loss: 1.6385 - val_accuracy: 0.5899\n",
      "Epoch 11/100\n",
      "164/164 [==============================] - ETA: 0s - loss: 1.7452 - accuracy: 0.5073\n",
      "Epoch 11: val_loss improved from 1.39616 to 1.22561, saving model to efficient_best.hdf5\n",
      "164/164 [==============================] - 17s 107ms/step - loss: 1.7452 - accuracy: 0.5073 - val_loss: 1.2256 - val_accuracy: 0.6910\n",
      "Epoch 12/100\n",
      "164/164 [==============================] - ETA: 0s - loss: 1.6561 - accuracy: 0.4939\n",
      "Epoch 12: val_loss improved from 1.22561 to 1.20913, saving model to efficient_best.hdf5\n",
      "164/164 [==============================] - 18s 107ms/step - loss: 1.6561 - accuracy: 0.4939 - val_loss: 1.2091 - val_accuracy: 0.6629\n",
      "Epoch 13/100\n",
      "164/164 [==============================] - ETA: 0s - loss: 1.6660 - accuracy: 0.5122\n",
      "Epoch 13: val_loss did not improve from 1.20913\n",
      "164/164 [==============================] - 17s 102ms/step - loss: 1.6660 - accuracy: 0.5122 - val_loss: 1.3664 - val_accuracy: 0.6461\n",
      "Epoch 14/100\n",
      "164/164 [==============================] - ETA: 0s - loss: 1.6393 - accuracy: 0.5549\n",
      "Epoch 14: val_loss improved from 1.20913 to 1.19954, saving model to efficient_best.hdf5\n",
      "164/164 [==============================] - 18s 107ms/step - loss: 1.6393 - accuracy: 0.5549 - val_loss: 1.1995 - val_accuracy: 0.6854\n",
      "Epoch 15/100\n",
      "164/164 [==============================] - ETA: 0s - loss: 1.6282 - accuracy: 0.5463\n",
      "Epoch 15: val_loss did not improve from 1.19954\n",
      "164/164 [==============================] - 17s 102ms/step - loss: 1.6282 - accuracy: 0.5463 - val_loss: 1.6294 - val_accuracy: 0.6461\n",
      "Epoch 16/100\n",
      "164/164 [==============================] - ETA: 0s - loss: 1.5609 - accuracy: 0.5768\n",
      "Epoch 16: val_loss did not improve from 1.19954\n",
      "164/164 [==============================] - 17s 102ms/step - loss: 1.5609 - accuracy: 0.5768 - val_loss: 1.6459 - val_accuracy: 0.6685\n",
      "Epoch 17/100\n",
      "164/164 [==============================] - ETA: 0s - loss: 1.5962 - accuracy: 0.5573\n",
      "Epoch 17: val_loss did not improve from 1.19954\n",
      "164/164 [==============================] - 17s 102ms/step - loss: 1.5962 - accuracy: 0.5573 - val_loss: 1.4803 - val_accuracy: 0.7022\n",
      "Epoch 18/100\n",
      "164/164 [==============================] - ETA: 0s - loss: 1.5535 - accuracy: 0.5890\n",
      "Epoch 18: val_loss did not improve from 1.19954\n",
      "164/164 [==============================] - 18s 107ms/step - loss: 1.5535 - accuracy: 0.5890 - val_loss: 1.4013 - val_accuracy: 0.7022\n",
      "Epoch 19/100\n",
      "164/164 [==============================] - ETA: 0s - loss: 1.4817 - accuracy: 0.5878\n",
      "Epoch 19: val_loss did not improve from 1.19954\n",
      "164/164 [==============================] - 17s 104ms/step - loss: 1.4817 - accuracy: 0.5878 - val_loss: 1.6450 - val_accuracy: 0.7472\n",
      "Epoch 20/100\n",
      "164/164 [==============================] - ETA: 0s - loss: 1.4037 - accuracy: 0.5732\n",
      "Epoch 20: val_loss did not improve from 1.19954\n",
      "164/164 [==============================] - 17s 103ms/step - loss: 1.4037 - accuracy: 0.5732 - val_loss: 1.6308 - val_accuracy: 0.7247\n",
      "Epoch 21/100\n",
      "164/164 [==============================] - ETA: 0s - loss: 1.4522 - accuracy: 0.6183\n",
      "Epoch 21: val_loss did not improve from 1.19954\n",
      "164/164 [==============================] - 17s 103ms/step - loss: 1.4522 - accuracy: 0.6183 - val_loss: 1.5908 - val_accuracy: 0.7360\n",
      "Epoch 22/100\n",
      "164/164 [==============================] - ETA: 0s - loss: 1.2908 - accuracy: 0.6671\n",
      "Epoch 22: val_loss did not improve from 1.19954\n",
      "164/164 [==============================] - 17s 103ms/step - loss: 1.2908 - accuracy: 0.6671 - val_loss: 1.3162 - val_accuracy: 0.7809\n",
      "Epoch 23/100\n",
      "164/164 [==============================] - ETA: 0s - loss: 1.4691 - accuracy: 0.5927\n",
      "Epoch 23: val_loss improved from 1.19954 to 1.16644, saving model to efficient_best.hdf5\n",
      "164/164 [==============================] - 18s 109ms/step - loss: 1.4691 - accuracy: 0.5927 - val_loss: 1.1664 - val_accuracy: 0.7303\n",
      "Epoch 24/100\n",
      "164/164 [==============================] - ETA: 0s - loss: 1.3443 - accuracy: 0.6195\n",
      "Epoch 24: val_loss did not improve from 1.16644\n",
      "164/164 [==============================] - 17s 103ms/step - loss: 1.3443 - accuracy: 0.6195 - val_loss: 1.3753 - val_accuracy: 0.7584\n",
      "Epoch 25/100\n",
      "164/164 [==============================] - ETA: 0s - loss: 1.1880 - accuracy: 0.6524\n",
      "Epoch 25: val_loss did not improve from 1.16644\n",
      "164/164 [==============================] - 17s 104ms/step - loss: 1.1880 - accuracy: 0.6524 - val_loss: 1.2580 - val_accuracy: 0.7809\n",
      "Epoch 26/100\n",
      "164/164 [==============================] - ETA: 0s - loss: 1.4783 - accuracy: 0.6293\n",
      "Epoch 26: val_loss did not improve from 1.16644\n",
      "164/164 [==============================] - 17s 103ms/step - loss: 1.4783 - accuracy: 0.6293 - val_loss: 1.5185 - val_accuracy: 0.7528\n",
      "Epoch 27/100\n",
      "164/164 [==============================] - ETA: 0s - loss: 1.3511 - accuracy: 0.6232\n",
      "Epoch 27: val_loss did not improve from 1.16644\n",
      "164/164 [==============================] - 17s 102ms/step - loss: 1.3511 - accuracy: 0.6232 - val_loss: 1.2864 - val_accuracy: 0.7416\n",
      "Epoch 28/100\n",
      "164/164 [==============================] - ETA: 0s - loss: 1.2477 - accuracy: 0.6500\n",
      "Epoch 28: val_loss did not improve from 1.16644\n",
      "164/164 [==============================] - 17s 104ms/step - loss: 1.2477 - accuracy: 0.6500 - val_loss: 1.5129 - val_accuracy: 0.7472\n",
      "Epoch 29/100\n",
      "164/164 [==============================] - ETA: 0s - loss: 1.3231 - accuracy: 0.6415\n",
      "Epoch 29: val_loss did not improve from 1.16644\n",
      "164/164 [==============================] - 17s 102ms/step - loss: 1.3231 - accuracy: 0.6415 - val_loss: 1.4311 - val_accuracy: 0.7697\n",
      "Epoch 30/100\n",
      "164/164 [==============================] - ETA: 0s - loss: 1.3406 - accuracy: 0.6646\n",
      "Epoch 30: val_loss did not improve from 1.16644\n",
      "164/164 [==============================] - 17s 102ms/step - loss: 1.3406 - accuracy: 0.6646 - val_loss: 1.6078 - val_accuracy: 0.7865\n",
      "Epoch 31/100\n",
      "164/164 [==============================] - ETA: 0s - loss: 1.2982 - accuracy: 0.6610\n",
      "Epoch 31: val_loss did not improve from 1.16644\n",
      "164/164 [==============================] - 18s 107ms/step - loss: 1.2982 - accuracy: 0.6610 - val_loss: 1.6135 - val_accuracy: 0.7472\n",
      "Epoch 32/100\n",
      "164/164 [==============================] - ETA: 0s - loss: 1.1081 - accuracy: 0.6793\n",
      "Epoch 32: val_loss did not improve from 1.16644\n",
      "164/164 [==============================] - 17s 102ms/step - loss: 1.1081 - accuracy: 0.6793 - val_loss: 1.2271 - val_accuracy: 0.8090\n",
      "Epoch 33/100\n",
      "164/164 [==============================] - ETA: 0s - loss: 1.1755 - accuracy: 0.6793\n",
      "Epoch 33: val_loss did not improve from 1.16644\n",
      "164/164 [==============================] - 17s 104ms/step - loss: 1.1755 - accuracy: 0.6793 - val_loss: 1.2440 - val_accuracy: 0.7809\n"
     ]
    }
   ],
   "source": [
    "efficientNet_history = efficientNet_model.fit(train_generator,\n",
    "                            batch_size=5,\n",
    "                            epochs=n_epochs,\n",
    "                            validation_data=valid_generator,\n",
    "                            #steps_per_epoch=n_steps,\n",
    "                            #validation_steps=n_val_steps,\n",
    "                            callbacks=[tl_checkpoint_1, early_stop],\n",
    "                            verbose=1)"
   ]
  },
  {
   "cell_type": "markdown",
   "metadata": {
    "id": "FfGz6QSAMWxs"
   },
   "source": [
    "epoch vs error Plot "
   ]
  },
  {
   "cell_type": "code",
   "execution_count": 97,
   "metadata": {
    "colab": {
     "base_uri": "https://localhost:8080/",
     "height": 295
    },
    "id": "lC8M1UyiMTHE",
    "outputId": "40e45819-f1a3-4bf1-b606-51e14da8a3c8"
   },
   "outputs": [
    {
     "data": {
      "image/png": "[encoded data removed]",
      "text/plain": [
       "<Figure size 432x288 with 1 Axes>"
      ]
     },
     "metadata": {
      "needs_background": "light"
     },
     "output_type": "display_data"
    }
   ],
   "source": [
    "plot_epoch_vs_acc(efficientNet_history)"
   ]
  },
  {
   "cell_type": "code",
   "execution_count": 98,
   "metadata": {
    "id": "8owPCcpxMaj1"
   },
   "outputs": [],
   "source": [
    "efficientNet_model.load_weights('efficient_best.hdf5')"
   ]
  },
  {
   "cell_type": "markdown",
   "metadata": {
    "id": "iSHXgRd8Mg6e"
   },
   "source": [
    "Precision, recall, f1- score for efficient Net B0 "
   ]
  },
  {
   "cell_type": "code",
   "execution_count": 99,
   "metadata": {
    "colab": {
     "base_uri": "https://localhost:8080/"
    },
    "id": "lAvjWyKWMd1g",
    "outputId": "23808675-d264-4bca-d7c4-654fff71175e"
   },
   "outputs": [
    {
     "name": "stdout",
     "output_type": "stream",
     "text": [
      "178/178 [==============================] - 3s 13ms/step\n",
      "              precision    recall  f1-score   support\n",
      "\n",
      "           0       0.86      0.86      0.86         7\n",
      "           1       0.78      0.78      0.78         9\n",
      "           2       0.82      1.00      0.90         9\n",
      "           3       1.00      0.56      0.71         9\n",
      "           4       0.60      0.33      0.43         9\n",
      "           5       0.57      0.89      0.70         9\n",
      "           6       0.82      1.00      0.90         9\n",
      "           7       0.55      0.67      0.60         9\n",
      "           8       1.00      0.67      0.80         9\n",
      "           9       0.82      1.00      0.90         9\n",
      "          10       0.89      0.89      0.89         9\n",
      "          11       0.73      0.89      0.80         9\n",
      "          12       0.50      0.56      0.53         9\n",
      "          13       0.00      0.00      0.00         9\n",
      "          14       0.39      0.78      0.52         9\n",
      "          15       0.50      0.44      0.47         9\n",
      "          16       1.00      1.00      1.00         9\n",
      "          17       1.00      0.33      0.50         9\n",
      "          18       0.71      0.56      0.63         9\n",
      "          19       0.67      0.89      0.76         9\n",
      "\n",
      "    accuracy                           0.70       178\n",
      "   macro avg       0.71      0.70      0.68       178\n",
      "weighted avg       0.71      0.70      0.68       178\n",
      "\n"
     ]
    }
   ],
   "source": [
    "print_classification_score(efficientNet_model,test_generator)"
   ]
  },
  {
   "cell_type": "markdown",
   "metadata": {
    "id": "dn4zAAyANTz7"
   },
   "source": [
    "References:\n",
    "https://www.learndatasci.com/tutorials/hands-on-transfer-learning-keras/\n",
    "https://www.tensorflow.org/api_docs/python/tf/keras/preprocessing/image/ImageDataGenerator\n",
    "https://www.tensorflow.org/api_docs/python/tf/keras/applications/efficientnet/EfficientNetB0\n",
    "https://stackoverflow.com/questions/45806669/how-to-use-predict-generator-with-imagedatagenerator\n",
    "https://www.tensorflow.org/tutorials/images/transfer_learning\n",
    "https://blog.roboflow.com/why-and-how-to-implement-random-crop-data-augmentation/\n",
    "https://towardsdatascience.com/image-classification-transfer-learning-and-fine-tuning-using-tensorflow-a791baf9dbf3"
   ]
  },
  {
   "cell_type": "code",
   "execution_count": null,
   "metadata": {
    "id": "oPuR2QOBNb1x"
   },
   "outputs": [],
   "source": []
  }
 ],
 "metadata": {
  "accelerator": "GPU",
  "colab": {
   "provenance": []
  },
  "gpuClass": "standard",
  "kernelspec": {
   "display_name": "Python 3 (ipykernel)",
   "language": "python",
   "name": "python3"
  },
  "language_info": {
   "codemirror_mode": {
    "name": "ipython",
    "version": 3
   },
   "file_extension": ".py",
   "mimetype": "text/x-python",
   "name": "python",
   "nbconvert_exporter": "python",
   "pygments_lexer": "ipython3",
   "version": "3.9.7"
  }
 },
 "nbformat": 4,
 "nbformat_minor": 1
}
